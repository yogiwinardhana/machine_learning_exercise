{
 "cells": [
  {
   "cell_type": "markdown",
   "id": "ce61b6c5-6aca-4133-a397-bd20df8796ff",
   "metadata": {},
   "source": [
    "# Import Libraries"
   ]
  },
  {
   "cell_type": "code",
   "execution_count": null,
   "id": "ec64d847-b67e-4ff3-8095-53776b9d10ce",
   "metadata": {},
   "outputs": [],
   "source": [
    "import numpy as np\n",
    "import pandas as pd\n",
    "import matplotlib.pyplot as plt\n",
    "import seaborn as sns\n",
    "import statsmodels.api as sm\n",
    "import warnings\n",
    "warnings. simplefilter(action='ignore', category=FutureWarning)\n",
    "%matplotlib inline"
   ]
  },
  {
   "cell_type": "markdown",
   "id": "c661e63a-e65f-4076-ab48-b8f459486703",
   "metadata": {},
   "source": [
    "# Data Collection"
   ]
  },
  {
   "cell_type": "markdown",
   "id": "1e8a32a9-35ef-4592-918a-0f37a4060548",
   "metadata": {},
   "source": [
    "## Import Boston Data"
   ]
  },
  {
   "cell_type": "markdown",
   "id": "7782a44b-fcd7-4a2b-abf9-edeaf6a69733",
   "metadata": {},
   "source": [
    "Content\n",
    "The following describes the dataset columns:\n",
    "\n",
    "Detail info : <br>\n",
    "https://www.kaggle.com/datasets/avish5787/boston-data-set <br>\n",
    "\n",
    "CRIM - per capita crime rate by town <br>\n",
    "ZN - proportion of residential land zoned for lots over 25,000 sq.ft. <br>\n",
    "INDUS - proportion of non-retail business acres per town. <br>\n",
    "CHAS - Charles River dummy variable (1 if tract bounds river; 0 otherwise) <br>\n",
    "NOX - nitric oxides concentration (parts per 10 million) <br>\n",
    "RM - average number of rooms per dwelling <br>\n",
    "AGE - proportion of owner-occupied units built prior to 1940 <br>\n",
    "DIS - weighted distances to five Boston employment centres <br>\n",
    "RAD - index of accessibility to radial highways <br>\n",
    "TAX - full-value property-tax rate per $10,000 <br>\n",
    "PTRATIO - pupil-teacher ratio by town <br>\n",
    "B - 1000(Bk - 0.63)^2 where Bk is the proportion of blacks by town <br>\n",
    "LSTAT - percent lower status of the population <br>\n",
    "MEDV - Median value of owner-occupied homes in USD1000's <br>"
   ]
  },
  {
   "cell_type": "code",
   "execution_count": null,
   "id": "7d60dd44-a0f3-45d4-bf61-a31394a15394",
   "metadata": {},
   "outputs": [],
   "source": [
    "boston_df = pd.read_csv(\"../00_general_data/housing_boston.csv\", delimiter=';')"
   ]
  },
  {
   "cell_type": "code",
   "execution_count": null,
   "id": "7e53d7ac-9c57-4853-9a77-d8355d7fb278",
   "metadata": {},
   "outputs": [],
   "source": [
    "boston_df.head()"
   ]
  },
  {
   "cell_type": "markdown",
   "id": "cb144125-efca-4533-adf3-ddf5a7c30139",
   "metadata": {
    "tags": []
   },
   "source": [
    "# Data Preprocessing"
   ]
  },
  {
   "cell_type": "code",
   "execution_count": null,
   "id": "b8867679-4fe4-405e-85e0-fe3de2a63fdf",
   "metadata": {},
   "outputs": [],
   "source": [
    "# check for shape of dataset\n",
    "# we get 506 rows and 14 columns\n",
    "print(\"Shape of dataset: {}\".format(boston_df.shape))"
   ]
  },
  {
   "cell_type": "code",
   "execution_count": null,
   "id": "659c7197-d4fc-4d0d-8721-74185f71fd35",
   "metadata": {},
   "outputs": [],
   "source": [
    "# check for null values\n",
    "# perfect, no null values\n",
    "boston_df.isnull().sum()"
   ]
  },
  {
   "cell_type": "code",
   "execution_count": null,
   "id": "533d1cbb-15e2-4628-ae8e-84f8bf410664",
   "metadata": {},
   "outputs": [],
   "source": [
    "boston_df.info()"
   ]
  },
  {
   "cell_type": "code",
   "execution_count": null,
   "id": "69560c7f-08f2-40ed-9d37-d48fad542ab1",
   "metadata": {},
   "outputs": [],
   "source": [
    "# check for descriptive statistics\n",
    "boston_df.describe()"
   ]
  },
  {
   "cell_type": "code",
   "execution_count": null,
   "id": "993678c2-3ef6-4849-8f02-49f375e48cf5",
   "metadata": {},
   "outputs": [],
   "source": [
    "# check for columns\n",
    "boston_df.columns"
   ]
  },
  {
   "cell_type": "code",
   "execution_count": null,
   "id": "7fa8f838-593d-402b-91b6-ed309d871f80",
   "metadata": {},
   "outputs": [],
   "source": [
    "# check for numbers of columns\n",
    "len(boston_df.columns)"
   ]
  },
  {
   "cell_type": "markdown",
   "id": "2cf2c1ad-d3d9-437c-acfa-a2a4e4e4be5d",
   "metadata": {},
   "source": [
    "# Exploratory Data Analysis"
   ]
  },
  {
   "cell_type": "markdown",
   "id": "e1bf9e43-a4da-4ebd-8937-16d2c53525c5",
   "metadata": {},
   "source": [
    "## Create Pair Plot"
   ]
  },
  {
   "cell_type": "code",
   "execution_count": null,
   "id": "b7fb8cd3-ddf4-4c0e-a04d-a4976c806899",
   "metadata": {},
   "outputs": [],
   "source": [
    "# create pairplot for independent and dependent variable\n",
    "sns.pairplot(boston_df)"
   ]
  },
  {
   "cell_type": "code",
   "execution_count": null,
   "id": "4db05d3f-36db-43d6-9599-ef55164653da",
   "metadata": {},
   "outputs": [],
   "source": [
    "# Create pairplot for selection of independent variable\n",
    "sns.pairplot(boston_df[['LSTAT', 'RM', 'PRICE']])"
   ]
  },
  {
   "cell_type": "markdown",
   "id": "b08fdad2-33b3-4046-84fc-fbaf985ed918",
   "metadata": {},
   "source": [
    "## Heat Map"
   ]
  },
  {
   "cell_type": "code",
   "execution_count": null,
   "id": "391ee856-3421-4ef9-904b-2c834ccb1138",
   "metadata": {},
   "outputs": [],
   "source": [
    "# check for heatmap\n",
    "# let's see for the correlation coeficient\n",
    "plt.figure(figsize = (10,8))\n",
    "sns.heatmap(boston_df.corr(), annot=True, cmap='Greens')"
   ]
  },
  {
   "cell_type": "markdown",
   "id": "2a9ac7e2-f0dc-43c4-b277-a115d4d357e5",
   "metadata": {},
   "source": [
    "## Visualize Null Values"
   ]
  },
  {
   "cell_type": "code",
   "execution_count": null,
   "id": "94ca9c51-dff1-4c11-bddb-f0a0a2c825f9",
   "metadata": {},
   "outputs": [],
   "source": [
    "# No null values right\n",
    "sns.heatmap(boston_df.isnull(), yticklabels=False, cbar=False, cmap='viridis')"
   ]
  },
  {
   "cell_type": "code",
   "execution_count": null,
   "id": "0f0e7138-e655-4606-a24b-2d757c151ef0",
   "metadata": {},
   "outputs": [],
   "source": [
    "# Only select some of the independent variables that have correlation with Price\n",
    "plt.figure(figsize = (8,6))\n",
    "sns.heatmap(boston_df[['LSTAT', 'RM', 'PTRATIO', 'PRICE']].corr(), annot=True, cmap='Greens')"
   ]
  },
  {
   "cell_type": "markdown",
   "id": "8c306a9b-b34e-4275-a4b5-5b9185b720c8",
   "metadata": {},
   "source": [
    "# Train a Linear Regression Model"
   ]
  },
  {
   "cell_type": "markdown",
   "id": "ea4aad27-1359-43ed-8961-464fa22d386e",
   "metadata": {},
   "source": [
    "## Split between Dependent and Independent Variables"
   ]
  },
  {
   "cell_type": "code",
   "execution_count": null,
   "id": "ecc1bf8b-61fb-4bb0-8953-f3a944c8bc8a",
   "metadata": {},
   "outputs": [],
   "source": [
    "X = boston_df[['LSTAT', 'RM', 'PTRATIO']]\n",
    "y = boston_df['PRICE']"
   ]
  },
  {
   "cell_type": "markdown",
   "id": "b4c55702-0d72-4ca2-bd3d-6c78db470c51",
   "metadata": {},
   "source": [
    "# Train and Test Split"
   ]
  },
  {
   "cell_type": "code",
   "execution_count": null,
   "id": "6b317441-a6ae-4088-9e32-50c4241e2e37",
   "metadata": {},
   "outputs": [],
   "source": [
    "from sklearn.model_selection import train_test_split"
   ]
  },
  {
   "cell_type": "code",
   "execution_count": null,
   "id": "55891daf-de6a-409b-b3fd-0e6310e15ada",
   "metadata": {},
   "outputs": [],
   "source": [
    "# use test size 20% from total data\n",
    "# pseudo random number generator with code 101\n",
    "\n",
    "X_train, X_test, y_train, y_test = train_test_split(X, y, test_size=0.2, random_state=101)"
   ]
  },
  {
   "cell_type": "markdown",
   "id": "2f5be779-4ef4-4d8f-bd28-d902dfd4a0a3",
   "metadata": {},
   "source": [
    "# Create and Train the Model"
   ]
  },
  {
   "cell_type": "code",
   "execution_count": null,
   "id": "97dd28a6-66b5-496b-8546-fc2a1083d843",
   "metadata": {},
   "outputs": [],
   "source": [
    "from sklearn.linear_model import LinearRegression"
   ]
  },
  {
   "cell_type": "code",
   "execution_count": null,
   "id": "86b7c215-a2e3-46ba-a199-66565e3bfcfe",
   "metadata": {},
   "outputs": [],
   "source": [
    "lm = LinearRegression()"
   ]
  },
  {
   "cell_type": "code",
   "execution_count": null,
   "id": "57666600-0665-4d2d-a8b0-3e98e5fb32e2",
   "metadata": {},
   "outputs": [],
   "source": [
    "lm.fit(X_train, y_train)"
   ]
  },
  {
   "cell_type": "markdown",
   "id": "457254cd-e1f7-4be7-bd69-c747efaf7ff6",
   "metadata": {},
   "source": [
    "# Model Evaluation"
   ]
  },
  {
   "cell_type": "code",
   "execution_count": null,
   "id": "bfea377e-e8f3-46b0-8339-4ee36c0c3caa",
   "metadata": {},
   "outputs": [],
   "source": [
    "print(lm.intercept_)"
   ]
  },
  {
   "cell_type": "code",
   "execution_count": null,
   "id": "6c58d4ef-2270-4072-bed1-d48e52fd0b79",
   "metadata": {},
   "outputs": [],
   "source": [
    "coeff_df = pd.DataFrame(lm.coef_,X.columns,columns=['Coefficient'])\n",
    "coeff_df"
   ]
  },
  {
   "cell_type": "markdown",
   "id": "3533ec6a-488e-4d9e-8013-f967f2baf330",
   "metadata": {},
   "source": [
    "# Predictions from Model"
   ]
  },
  {
   "cell_type": "code",
   "execution_count": null,
   "id": "a4cd95e9-e94d-413e-b33f-a9b175bb19a1",
   "metadata": {},
   "outputs": [],
   "source": [
    "X_test.head()"
   ]
  },
  {
   "cell_type": "markdown",
   "id": "87cd5171-6fee-4da4-a0d1-bc799639f025",
   "metadata": {},
   "source": [
    "## Train Accuracy"
   ]
  },
  {
   "cell_type": "code",
   "execution_count": null,
   "id": "02ea8c18-6fad-4ea8-91f8-d247cb32f943",
   "metadata": {},
   "outputs": [],
   "source": [
    "train_score = lm.score(X_train, y_train)*100"
   ]
  },
  {
   "cell_type": "code",
   "execution_count": null,
   "id": "e0ab2c54-c238-44dd-b1f0-e3237aa2a133",
   "metadata": {},
   "outputs": [],
   "source": [
    "print(\"Training Accuracy: {}\".format(train_score))"
   ]
  },
  {
   "cell_type": "markdown",
   "id": "1b902ab6-f9d8-4475-9799-d6f4f470e0dc",
   "metadata": {},
   "source": [
    "## Test Accuracy"
   ]
  },
  {
   "cell_type": "code",
   "execution_count": null,
   "id": "367eab90-e897-4fd1-9070-ac42412f45a4",
   "metadata": {},
   "outputs": [],
   "source": [
    "test_score = lm.score(X_test, y_test)*100"
   ]
  },
  {
   "cell_type": "code",
   "execution_count": null,
   "id": "50782ddd-1eba-4106-b8be-5350fc223b18",
   "metadata": {},
   "outputs": [],
   "source": [
    "print(\"Test Accuracy: {}\".format(test_score))"
   ]
  },
  {
   "cell_type": "markdown",
   "id": "d62ad633-0381-4099-a6f5-032cc65cd736",
   "metadata": {},
   "source": [
    "## Predict X_test"
   ]
  },
  {
   "cell_type": "code",
   "execution_count": null,
   "id": "8c8a2eb1-2a70-4bc0-a9c3-1b22c05a0ddc",
   "metadata": {},
   "outputs": [],
   "source": [
    "y_pred = lm.predict(X_test)"
   ]
  },
  {
   "cell_type": "code",
   "execution_count": null,
   "id": "ea983a99-c726-4eb1-a512-852285c151b4",
   "metadata": {},
   "outputs": [],
   "source": [
    "y_pred"
   ]
  },
  {
   "cell_type": "markdown",
   "id": "abf08158-c71b-472b-b732-d0e56c0cfe3a",
   "metadata": {},
   "source": [
    "# Check Scatter Plot between y_test and y_pred"
   ]
  },
  {
   "cell_type": "markdown",
   "id": "ae4fb9f9-2c53-4812-aa74-8bc709d7c838",
   "metadata": {},
   "source": [
    "# Scatter Plot using Matplotlib"
   ]
  },
  {
   "cell_type": "code",
   "execution_count": null,
   "id": "1ac4ecad-faf0-4af8-8766-c554ae0b5938",
   "metadata": {},
   "outputs": [],
   "source": [
    "plt.figure(figsize=(8,6))\n",
    "plt.xlabel('y_test value')\n",
    "plt.ylabel('y_pred value')\n",
    "plt.title('y_test value and y_pred value')\n",
    "\n",
    "plt.scatter(x=y_test, y=y_pred)"
   ]
  },
  {
   "cell_type": "markdown",
   "id": "8543d563-b80b-4209-98dd-707a11e77402",
   "metadata": {},
   "source": [
    "## Scatter Plot and Regression Plot Using Seaborn"
   ]
  },
  {
   "cell_type": "code",
   "execution_count": null,
   "id": "ebc39af0-e8fa-42a0-9650-919af4a9a0f9",
   "metadata": {},
   "outputs": [],
   "source": [
    "plt.figure(figsize=(8,6))\n",
    "plt.xlabel('y_test value')\n",
    "plt.ylabel('y_pred value')\n",
    "plt.title('y_test value and y_pred value')\n",
    "sns.regplot(x=y_test, y=y_pred)"
   ]
  },
  {
   "cell_type": "markdown",
   "id": "8afcfe67-b103-454d-b40b-3f6b42a78f69",
   "metadata": {},
   "source": [
    "# Residual Histogram"
   ]
  },
  {
   "cell_type": "code",
   "execution_count": null,
   "id": "ccc898c7-f641-43db-b3ed-4d87f4e5149d",
   "metadata": {
    "tags": []
   },
   "outputs": [],
   "source": [
    "sns.displot((y_test-y_pred), bins=50, height = 5)"
   ]
  },
  {
   "cell_type": "markdown",
   "id": "4ecf6c96-44f6-4377-baa3-570371a1d8d6",
   "metadata": {},
   "source": [
    "# Regression Evaluation Metrics"
   ]
  },
  {
   "cell_type": "code",
   "execution_count": null,
   "id": "83e43364-0c65-47fc-9432-ad52f324f7a0",
   "metadata": {},
   "outputs": [],
   "source": [
    "from sklearn import metrics"
   ]
  },
  {
   "cell_type": "markdown",
   "id": "7610339a-16d1-4f3d-9755-e674e3ec6b9e",
   "metadata": {},
   "source": [
    "## Regression Evaluation Metrics\n",
    "\n",
    "\n",
    "Here are three common evaluation metrics for regression problems:\n",
    "\n",
    "**Mean Absolute Error** (MAE) is the mean of the absolute value of the errors:\n",
    "\n",
    "$$\\frac 1n\\sum_{i=1}^n|y_i-\\hat{y}_i|$$\n",
    "\n",
    "**Mean Squared Error** (MSE) is the mean of the squared errors:\n",
    "\n",
    "$$\\frac 1n\\sum_{i=1}^n(y_i-\\hat{y}_i)^2$$\n",
    "\n",
    "**Root Mean Squared Error** (RMSE) is the square root of the mean of the squared errors:\n",
    "\n",
    "$$\\sqrt{\\frac 1n\\sum_{i=1}^n(y_i-\\hat{y}_i)^2}$$\n",
    "\n",
    "Comparing these metrics:\n",
    "\n",
    "- **MAE** is the easiest to understand, because it's the average error.\n",
    "- **MSE** is more popular than MAE, because MSE \"punishes\" larger errors, which tends to be useful in the real world.\n",
    "- **RMSE** is even more popular than MSE, because RMSE is interpretable in the \"y\" units.\n",
    "\n",
    "All of these are **loss functions**, because we want to minimize them."
   ]
  },
  {
   "cell_type": "code",
   "execution_count": null,
   "id": "05df95b2-9443-4aa5-9854-e7fe02e1f865",
   "metadata": {},
   "outputs": [],
   "source": [
    "print('MAE:', metrics.mean_absolute_error(y_test, y_pred))\n",
    "print('MSE:', metrics.mean_squared_error(y_test, y_pred))\n",
    "print('RMSE:', np.sqrt(metrics.mean_squared_error(y_test, y_pred)))"
   ]
  },
  {
   "cell_type": "code",
   "execution_count": null,
   "id": "bf8fd3a5-0133-4877-b1fc-ce79b132d97f",
   "metadata": {},
   "outputs": [],
   "source": [
    "mod = sm.OLS(y , X).fit()"
   ]
  },
  {
   "cell_type": "code",
   "execution_count": null,
   "id": "20cf9659-4710-45c7-b1c5-95496382181e",
   "metadata": {},
   "outputs": [],
   "source": [
    "print(mod.summary())"
   ]
  },
  {
   "cell_type": "markdown",
   "id": "79d5ad01-13f0-4aa4-9a8d-fe1ab985c544",
   "metadata": {},
   "source": [
    "references :"
   ]
  },
  {
   "cell_type": "markdown",
   "id": "e21315b8-edb5-4e1c-b150-a47361241526",
   "metadata": {},
   "source": [
    "https://www.accelebrate.com/blog/interpreting-results-from-linear-regression-is-the-data-appropriate"
   ]
  },
  {
   "cell_type": "markdown",
   "id": "883f7471-f8cf-41ce-bea5-5337275656af",
   "metadata": {},
   "source": [
    "https://www.statsmodels.org/dev/examples/notebooks/generated/ols.html"
   ]
  },
  {
   "cell_type": "markdown",
   "id": "4b72f60a-1bfc-4124-b900-e0f092007ddd",
   "metadata": {},
   "source": [
    "https://medium.com/analytics-vidhya/boston-house-price-prediction-using-machine-learning-ad3750a866cd"
   ]
  },
  {
   "cell_type": "markdown",
   "id": "a7262ae9-a821-4605-aa47-524dd3b20bba",
   "metadata": {},
   "source": [
    "https://medium.com/analytics-vidhya/ordinary-least-squared-ols-regression-90942a2fdad5"
   ]
  }
 ],
 "metadata": {
  "kernelspec": {
   "display_name": "Python 3 (ipykernel)",
   "language": "python",
   "name": "python3"
  },
  "language_info": {
   "codemirror_mode": {
    "name": "ipython",
    "version": 3
   },
   "file_extension": ".py",
   "mimetype": "text/x-python",
   "name": "python",
   "nbconvert_exporter": "python",
   "pygments_lexer": "ipython3",
   "version": "3.9.12"
  },
  "toc-autonumbering": true
 },
 "nbformat": 4,
 "nbformat_minor": 5
}
